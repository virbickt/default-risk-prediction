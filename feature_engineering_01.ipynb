{
  "nbformat": 4,
  "nbformat_minor": 0,
  "metadata": {
    "colab": {
      "name": "feature_engineering_01.ipynb",
      "provenance": [],
      "authorship_tag": "ABX9TyP6YxSLwlqJBizLOILcq1JP",
      "include_colab_link": true
    },
    "kernelspec": {
      "name": "python3",
      "display_name": "Python 3"
    },
    "language_info": {
      "name": "python"
    }
  },
  "cells": [
    {
      "cell_type": "markdown",
      "metadata": {
        "id": "view-in-github",
        "colab_type": "text"
      },
      "source": [
        "<a href=\"https://colab.research.google.com/github/virbickt/default-risk-prediction/blob/main/feature_engineering_01.ipynb\" target=\"_parent\"><img src=\"https://colab.research.google.com/assets/colab-badge.svg\" alt=\"Open In Colab\"/></a>"
      ]
    },
    {
      "cell_type": "markdown",
      "metadata": {
        "id": "qz-Rj8LwGii2"
      },
      "source": [
        "# Feature engineering"
      ]
    },
    {
      "cell_type": "markdown",
      "metadata": {
        "id": "CPyO5fVpGkjE"
      },
      "source": [
        "Judging from the scores we got on the dataset without engineered features (a series of experiments which have been left out of the notebook for the purposes of presentation), feature engineering is decisive in this competition. However, what makes the feature engineering complicated is the fact that we possess almost no domain knowledge. As a result, in addition to the features that we have managed to come up ourselves, we will inevitably be drawing on the work of others. "
      ]
    },
    {
      "cell_type": "markdown",
      "metadata": {
        "id": "UTEHWfAeI7lf"
      },
      "source": [
        "## First batch"
      ]
    },
    {
      "cell_type": "markdown",
      "metadata": {
        "id": "NKtfvZ8UIajG"
      },
      "source": [
        "First batch of engineered features consist of ratios between the features that have found to both make most sense domain-wise and rank among the most important features.\n",
        "```python\n",
        "for x in [WORKING_train, WORKING_test]:\n",
        "  x['LOAN_RATE'] = x['AMT_ANNUITY'] / x['AMT_CREDIT']\n",
        "  x['*goods_to_loan_rate'] = x['AMT_GOODS_PRICE'] / x['AMT_CREDIT']\n",
        "  x['*APPS_CREDIT_GOODS_DIFF'] = x['AMT_CREDIT'] - x['AMT_GOODS_PRICE']\n",
        "\n",
        "  x['*APPS_ANNUITY_INCOME_RATIO'] = x['AMT_ANNUITY']/x['AMT_INCOME_TOTAL']\n",
        "  x['*APPS_CREDIT_INCOME_RATIO'] = x['AMT_CREDIT']/x['AMT_INCOME_TOTAL']\n",
        "  x['*APPS_GOODS_INCOME_RATIO'] = x['AMT_GOODS_PRICE']/x['AMT_INCOME_TOTAL'] \n",
        "\n",
        "  x['*APPS_CNT_FAM_INCOME_RATIO'] = x['AMT_INCOME_TOTAL']/x['CNT_FAM_MEMBERS']\n",
        "\n",
        "  x['*APPS_INCOME_EMPLOYED_RATIO'] = x['AMT_INCOME_TOTAL']/x['DAYS_EMPLOYED']\n",
        "  x['*APPS_INCOME_BIRTH_RATIO'] = x['AMT_INCOME_TOTAL']/x['DAYS_BIRTH']\n",
        "  x['*APPS_CAR_BIRTH_RATIO'] = x['OWN_CAR_AGE'] / x['DAYS_BIRTH']\n",
        "  x['*APPS_CAR_EMPLOYED_RATIO'] = x['OWN_CAR_AGE'] / x['DAYS_EMPLOYED']\n",
        "\n",
        "  x['*credit_income_ratio'] = x['AMT_CREDIT'] / x['AMT_INCOME_TOTAL']\n",
        "  x['*employed_birth_ratio'] = x['DAYS_EMPLOYED'] / x['DAYS_BIRTH']\n",
        "  x['*amt_req_sum'] = x[[x for x in x.columns if 'AMT_REQ_' in x]].sum(axis = 1)\n",
        "```"
      ]
    },
    {
      "cell_type": "markdown",
      "metadata": {
        "id": "KwIxb_ubJAQ3"
      },
      "source": [
        "## Second batch"
      ]
    },
    {
      "cell_type": "markdown",
      "metadata": {
        "id": "uyGiKRrzIZ_8"
      },
      "source": [
        "Since `EXT_SOURCE_3`, `EXT_SOURCE_2` and `EXT_SOURCE_1` have found themselves among the most important features, we make the following aggregations:\n",
        "\n",
        "- product\n",
        "- weighted (although idiosyncratically) sum\n",
        "- minimum value across the three features\n",
        "- maximum value across the three features\n",
        "- median value\n",
        "- variance\n",
        "\n",
        "```python\n",
        "for df in [WORKING_train, WORKING_test]:\n",
        "    df[\"EXT_SOURCES_PROD\"] = (\n",
        "        df[\"EXT_SOURCE_1\"] * df[\"EXT_SOURCE_2\"] * df[\"EXT_SOURCE_3\"]\n",
        "    )\n",
        "    df[\"EXT_SOURCES_WEIGHTED\"] = (\n",
        "        df.EXT_SOURCE_1 * 2 + df.EXT_SOURCE_2 * 1 + df.EXT_SOURCE_3 * 3\n",
        "    )\n",
        "\n",
        "    for function_name in [\"min\", \"max\", \"mean\", \"nanmedian\", \"var\"]:\n",
        "        feature_name = \"EXT_SOURCES_{}\".format(function_name.upper())\n",
        "        df[feature_name] = eval(\"np.{}\".format(function_name))(\n",
        "            df[[\"EXT_SOURCE_1\", \"EXT_SOURCE_2\", \"EXT_SOURCE_3\"]], axis=1\n",
        "        )\n",
        "```"
      ]
    },
    {
      "cell_type": "markdown",
      "metadata": {
        "id": "geRs1U1LKGvL"
      },
      "source": [
        "## Third batch"
      ]
    },
    {
      "cell_type": "markdown",
      "metadata": {
        "id": "LYwgg7l7K034"
      },
      "source": [
        "[Kaggle grandmaster-inspired](https://github.com/rishabhrao1997/Home-Credit-Default-Risk/blob/main/Feature%20Engineering%20and%20Modelling.ipynb) mean of 500 neighbors with respect to the target found by KNeighborsClassifier (building on top of that we've added median, minimum, maximum, product and variance):\n",
        "\n",
        "```python\n",
        "knn = KNeighborsClassifier(500, n_jobs=-1)\n",
        "train_data_for_neighbors = x_processing[\n",
        "    [\"EXT_SOURCE_1\", \"EXT_SOURCE_2\", \"EXT_SOURCE_3\", \"CREDIT_ANNUITY_RATIO\"]\n",
        "]\n",
        "\n",
        "test_data_for_neighbors = test_df_processing[\n",
        "    [\"EXT_SOURCE_1\", \"EXT_SOURCE_2\", \"EXT_SOURCE_3\", \"CREDIT_ANNUITY_RATIO\"]\n",
        "]\n",
        "\n",
        "knn.fit(train_data_for_neighbors, y)\n",
        "\n",
        "train_500_neighbors = knn.kneighbors(train_data_for_neighbors)[1]\n",
        "test_500_neighbors = knn.kneighbors(test_data_for_neighbors)[1]\n",
        "\n",
        "x_processing[\"TARGET_NEIGHBORS_500_MEAN\"] = [\n",
        "    x_processing[\"TARGET\"].iloc[ele].mean() for ele in train_500_neighbors\n",
        "]\n",
        "test_df_processing[\"TARGET_NEIGHBORS_500_MEAN\"] = [\n",
        "    x_processing[\"TARGET\"].iloc[ele].mean() for ele in test_500_neighbors\n",
        "]\n",
        "\n",
        "x_processing[\"TARGET_NEIGHBORS_500_MEDIAN\"] = [\n",
        "    x_processing[\"TARGET\"].iloc[ele].median() for ele in train_500_neighbors\n",
        "]\n",
        "test_df_processing[\"TARGET_NEIGHBORS_500_MEDIAN\"] = [\n",
        "    x_processing[\"TARGET\"].iloc[ele].median() for ele in test_500_neighbors\n",
        "]\n",
        "\n",
        "x_processing[\"TARGET_NEIGHBORS_500_MIN\"] = [\n",
        "    x_processing[\"TARGET\"].iloc[ele].min() for ele in train_500_neighbors\n",
        "]\n",
        "test_df_processing[\"TARGET_NEIGHBORS_500_MIN\"] = [\n",
        "    x_processing[\"TARGET\"].iloc[ele].min() for ele in test_500_neighbors\n",
        "]\n",
        "\n",
        "x_processing[\"TARGET_NEIGHBORS_500_MAX\"] = [\n",
        "    x_processing[\"TARGET\"].iloc[ele].max() for ele in train_500_neighbors\n",
        "]\n",
        "test_df_processing[\"TARGET_NEIGHBORS_500_MAX\"] = [\n",
        "    x_processing[\"TARGET\"].iloc[ele].max() for ele in test_500_neighbors\n",
        "]\n",
        "\n",
        "x_processing[\"TARGET_NEIGHBORS_500_PROD\"] = [\n",
        "    x_processing[\"TARGET\"].iloc[ele].prod() for ele in train_500_neighbors\n",
        "]\n",
        "test_df_processing[\"TARGET_NEIGHBORS_500_PROD\"] = [\n",
        "    x_processing[\"TARGET\"].iloc[ele].prod() for ele in test_500_neighbors\n",
        "]\n",
        "\n",
        "x_processing[\"TARGET_NEIGHBORS_500_VAR\"] = [\n",
        "    x_processing[\"TARGET\"].iloc[ele].var() for ele in train_500_neighbors\n",
        "]\n",
        "test_df_processing[\"TARGET_NEIGHBORS_500_VAR\"] = [\n",
        "    x_processing[\"TARGET\"].iloc[ele].var() for ele in test_500_neighbors\n",
        "]\n",
        "```"
      ]
    },
    {
      "cell_type": "markdown",
      "metadata": {
        "id": "ynWXQFOOi387"
      },
      "source": [
        "## Correlations"
      ]
    },
    {
      "cell_type": "markdown",
      "metadata": {
        "id": "8nMEH9XLinuw"
      },
      "source": [
        "Let's see how are the engineered features correlated with the target variable."
      ]
    },
    {
      "cell_type": "code",
      "metadata": {
        "colab": {
          "base_uri": "https://localhost:8080/",
          "height": 717
        },
        "id": "t-zCjYoqjHA_",
        "outputId": "d49839a6-86a9-4219-a071-783208b7c48f"
      },
      "source": [
        "engineered = [\n",
        "    \"TARGET_NEIGHBORS_500_MEAN\",\n",
        "    \"TARGET_NEIGHBORS_500_MEDIAN\",\n",
        "    \"TARGET_NEIGHBORS_500_MIN\",\n",
        "    \"TARGET_NEIGHBORS_500_MAX\",\n",
        "    \"TARGET_NEIGHBORS_500_PROD\",\n",
        "    \"TARGET_NEIGHBORS_500_VAR\",\n",
        "    \"EXT_SOURCES_PROD\",\n",
        "    \"EXT_SOURCES_WEIGHTED\",\n",
        "    \"EXT_SOURCES_MIN\",\n",
        "    \"EXT_SOURCES_MAX\",\n",
        "    \"EXT_SOURCES_MEAN\",\n",
        "    \"EXT_SOURCES_NANMEDIAN\",\n",
        "    \"EXT_SOURCES_VAR\",\n",
        "    \"LOAN_RATE\",\n",
        "    \"*goods_to_loan_rate\",\n",
        "    \"*APPS_CREDIT_GOODS_DIFF\",\n",
        "    \"*APPS_ANNUITY_INCOME_RATIO\",\n",
        "    \"*APPS_CREDIT_INCOME_RATIO\",\n",
        "    \"*APPS_GOODS_INCOME_RATIO\",\n",
        "    \"*APPS_CNT_FAM_INCOME_RATIO\",\n",
        "    \"*APPS_INCOME_EMPLOYED_RATIO\",\n",
        "    \"*APPS_INCOME_BIRTH_RATIO\",\n",
        "    \"*APPS_CAR_BIRTH_RATIO\",\n",
        "    \"*APPS_CAR_EMPLOYED_RATIO\",\n",
        "    \"*credit_income_ratio\",\n",
        "    \"*employed_birth_ratio\",\n",
        "    \"*amt_req_sum\",\n",
        "]\n",
        "\n",
        "# upload the imputed and encoded version of the data (extended with data from auxillary tables)\n",
        "INCLUSIVE_train = pd.read_csv(\"/content/drive/MyDrive/341/2ALL_INCLUDED_train.csv\")\n",
        "INCLUSIVE_train['TARGET'] = app_train.TARGET\n",
        "\n",
        "# make dataframe with the correlation coefficients\n",
        "corrs = (\n",
        "    INCLUSIVE_train\n",
        "    .corr()[\"TARGET\"]\n",
        "    .to_frame()\n",
        "    .reset_index()\n",
        "    .iloc[1:, :]\n",
        ").set_index('index')\n",
        "\n",
        "fig = go.Figure(go.Bar(\n",
        "            x=corrs.drop([\"Unnamed: 0.1\", 'TARGET'], axis=0).loc[engineered]['TARGET'].values.tolist(),\n",
        "            y=corrs.drop([\"Unnamed: 0.1\", 'TARGET'], axis=0).loc[engineered]['TARGET'].index.tolist(),\n",
        "            orientation='h'))\n",
        "\n",
        "fig.update_layout(\n",
        "    autosize=False,\n",
        "    width=1000,\n",
        "    height=700,\n",
        "    xaxis_title=\"Pearson correlation\",\n",
        "    yaxis_title=\"Engineered features\",\n",
        ")\n",
        "\n",
        "fig.show()"
      ],
      "execution_count": null,
      "outputs": [
        {
          "output_type": "display_data",
          "data": {
            "text/html": [
              "<html>\n",
              "<head><meta charset=\"utf-8\" /></head>\n",
              "<body>\n",
              "    <div>\n",
              "            <script src=\"https://cdnjs.cloudflare.com/ajax/libs/mathjax/2.7.5/MathJax.js?config=TeX-AMS-MML_SVG\"></script><script type=\"text/javascript\">if (window.MathJax) {MathJax.Hub.Config({SVG: {font: \"STIX-Web\"}});}</script>\n",
              "                <script type=\"text/javascript\">window.PlotlyConfig = {MathJaxConfig: 'local'};</script>\n",
              "        <script src=\"https://cdn.plot.ly/plotly-latest.min.js\"></script>    \n",
              "            <div id=\"ff2dc94e-305b-461b-bceb-c817e11406fc\" class=\"plotly-graph-div\" style=\"height:700px; width:1000px;\"></div>\n",
              "            <script type=\"text/javascript\">\n",
              "                \n",
              "                    window.PLOTLYENV=window.PLOTLYENV || {};\n",
              "                    \n",
              "                if (document.getElementById(\"ff2dc94e-305b-461b-bceb-c817e11406fc\")) {\n",
              "                    Plotly.newPlot(\n",
              "                        'ff2dc94e-305b-461b-bceb-c817e11406fc',\n",
              "                        [{\"orientation\": \"h\", \"type\": \"bar\", \"x\": [0.25624047416151385, -0.04598707841557872, -0.04598707841557872, 0.0464135676380386, -0.04598707841557872, 0.24587392755081508, -0.08810075653924125, -0.05716477544210502, -0.10929685077012243, -0.06489134526760905, -0.09255458628198733, -0.09461499819788202, 0.038461613945637525, -0.017224735943991883, 0.011424453217584871, 0.05121771704180053, 0.03553702876059695, -0.008654895250861811, -0.02213816562786994, -0.04658818806926196, 0.045836032923976915, 0.04597083241070705, 0.04435596785577604, 0.04588874640324723, -0.008654895250861811, 0.045547021722613754, -0.023861755346440503], \"y\": [\"TARGET_NEIGHBORS_500_MEAN\", \"TARGET_NEIGHBORS_500_MEDIAN\", \"TARGET_NEIGHBORS_500_MIN\", \"TARGET_NEIGHBORS_500_MAX\", \"TARGET_NEIGHBORS_500_PROD\", \"TARGET_NEIGHBORS_500_VAR\", \"EXT_SOURCES_PROD\", \"EXT_SOURCES_WEIGHTED\", \"EXT_SOURCES_MIN\", \"EXT_SOURCES_MAX\", \"EXT_SOURCES_MEAN\", \"EXT_SOURCES_NANMEDIAN\", \"EXT_SOURCES_VAR\", \"LOAN_RATE\", \"*goods_to_loan_rate\", \"*APPS_CREDIT_GOODS_DIFF\", \"*APPS_ANNUITY_INCOME_RATIO\", \"*APPS_CREDIT_INCOME_RATIO\", \"*APPS_GOODS_INCOME_RATIO\", \"*APPS_CNT_FAM_INCOME_RATIO\", \"*APPS_INCOME_EMPLOYED_RATIO\", \"*APPS_INCOME_BIRTH_RATIO\", \"*APPS_CAR_BIRTH_RATIO\", \"*APPS_CAR_EMPLOYED_RATIO\", \"*credit_income_ratio\", \"*employed_birth_ratio\", \"*amt_req_sum\"]}],\n",
              "                        {\"autosize\": false, \"height\": 700, \"template\": {\"data\": {\"bar\": [{\"error_x\": {\"color\": \"#2a3f5f\"}, \"error_y\": {\"color\": \"#2a3f5f\"}, \"marker\": {\"line\": {\"color\": \"#E5ECF6\", \"width\": 0.5}}, \"type\": \"bar\"}], \"barpolar\": [{\"marker\": {\"line\": {\"color\": \"#E5ECF6\", \"width\": 0.5}}, \"type\": \"barpolar\"}], \"carpet\": [{\"aaxis\": {\"endlinecolor\": \"#2a3f5f\", \"gridcolor\": \"white\", \"linecolor\": \"white\", \"minorgridcolor\": \"white\", \"startlinecolor\": \"#2a3f5f\"}, \"baxis\": {\"endlinecolor\": \"#2a3f5f\", \"gridcolor\": \"white\", \"linecolor\": \"white\", \"minorgridcolor\": \"white\", \"startlinecolor\": \"#2a3f5f\"}, \"type\": \"carpet\"}], \"choropleth\": [{\"colorbar\": {\"outlinewidth\": 0, \"ticks\": \"\"}, \"type\": \"choropleth\"}], \"contour\": [{\"colorbar\": {\"outlinewidth\": 0, \"ticks\": \"\"}, \"colorscale\": [[0.0, \"#0d0887\"], [0.1111111111111111, \"#46039f\"], [0.2222222222222222, \"#7201a8\"], [0.3333333333333333, \"#9c179e\"], [0.4444444444444444, \"#bd3786\"], [0.5555555555555556, \"#d8576b\"], [0.6666666666666666, \"#ed7953\"], [0.7777777777777778, \"#fb9f3a\"], [0.8888888888888888, \"#fdca26\"], [1.0, \"#f0f921\"]], \"type\": \"contour\"}], \"contourcarpet\": [{\"colorbar\": {\"outlinewidth\": 0, \"ticks\": \"\"}, \"type\": \"contourcarpet\"}], \"heatmap\": [{\"colorbar\": {\"outlinewidth\": 0, \"ticks\": \"\"}, \"colorscale\": [[0.0, \"#0d0887\"], [0.1111111111111111, \"#46039f\"], [0.2222222222222222, \"#7201a8\"], [0.3333333333333333, \"#9c179e\"], [0.4444444444444444, \"#bd3786\"], [0.5555555555555556, \"#d8576b\"], [0.6666666666666666, \"#ed7953\"], [0.7777777777777778, \"#fb9f3a\"], [0.8888888888888888, \"#fdca26\"], [1.0, \"#f0f921\"]], \"type\": \"heatmap\"}], \"heatmapgl\": [{\"colorbar\": {\"outlinewidth\": 0, \"ticks\": \"\"}, \"colorscale\": [[0.0, \"#0d0887\"], [0.1111111111111111, \"#46039f\"], [0.2222222222222222, \"#7201a8\"], [0.3333333333333333, \"#9c179e\"], [0.4444444444444444, \"#bd3786\"], [0.5555555555555556, \"#d8576b\"], [0.6666666666666666, \"#ed7953\"], [0.7777777777777778, \"#fb9f3a\"], [0.8888888888888888, \"#fdca26\"], [1.0, \"#f0f921\"]], \"type\": \"heatmapgl\"}], \"histogram\": [{\"marker\": {\"colorbar\": {\"outlinewidth\": 0, \"ticks\": \"\"}}, \"type\": \"histogram\"}], \"histogram2d\": [{\"colorbar\": {\"outlinewidth\": 0, \"ticks\": \"\"}, \"colorscale\": [[0.0, \"#0d0887\"], [0.1111111111111111, \"#46039f\"], [0.2222222222222222, \"#7201a8\"], [0.3333333333333333, \"#9c179e\"], [0.4444444444444444, \"#bd3786\"], [0.5555555555555556, \"#d8576b\"], [0.6666666666666666, \"#ed7953\"], [0.7777777777777778, \"#fb9f3a\"], [0.8888888888888888, \"#fdca26\"], [1.0, \"#f0f921\"]], \"type\": \"histogram2d\"}], \"histogram2dcontour\": [{\"colorbar\": {\"outlinewidth\": 0, \"ticks\": \"\"}, \"colorscale\": [[0.0, \"#0d0887\"], [0.1111111111111111, \"#46039f\"], [0.2222222222222222, \"#7201a8\"], [0.3333333333333333, \"#9c179e\"], [0.4444444444444444, \"#bd3786\"], [0.5555555555555556, \"#d8576b\"], [0.6666666666666666, \"#ed7953\"], [0.7777777777777778, \"#fb9f3a\"], [0.8888888888888888, \"#fdca26\"], [1.0, \"#f0f921\"]], \"type\": \"histogram2dcontour\"}], \"mesh3d\": [{\"colorbar\": {\"outlinewidth\": 0, \"ticks\": \"\"}, \"type\": \"mesh3d\"}], \"parcoords\": [{\"line\": {\"colorbar\": {\"outlinewidth\": 0, \"ticks\": \"\"}}, \"type\": \"parcoords\"}], \"pie\": [{\"automargin\": true, \"type\": \"pie\"}], \"scatter\": [{\"marker\": {\"colorbar\": {\"outlinewidth\": 0, \"ticks\": \"\"}}, \"type\": \"scatter\"}], \"scatter3d\": [{\"line\": {\"colorbar\": {\"outlinewidth\": 0, \"ticks\": \"\"}}, \"marker\": {\"colorbar\": {\"outlinewidth\": 0, \"ticks\": \"\"}}, \"type\": \"scatter3d\"}], \"scattercarpet\": [{\"marker\": {\"colorbar\": {\"outlinewidth\": 0, \"ticks\": \"\"}}, \"type\": \"scattercarpet\"}], \"scattergeo\": [{\"marker\": {\"colorbar\": {\"outlinewidth\": 0, \"ticks\": \"\"}}, \"type\": \"scattergeo\"}], \"scattergl\": [{\"marker\": {\"colorbar\": {\"outlinewidth\": 0, \"ticks\": \"\"}}, \"type\": \"scattergl\"}], \"scattermapbox\": [{\"marker\": {\"colorbar\": {\"outlinewidth\": 0, \"ticks\": \"\"}}, \"type\": \"scattermapbox\"}], \"scatterpolar\": [{\"marker\": {\"colorbar\": {\"outlinewidth\": 0, \"ticks\": \"\"}}, \"type\": \"scatterpolar\"}], \"scatterpolargl\": [{\"marker\": {\"colorbar\": {\"outlinewidth\": 0, \"ticks\": \"\"}}, \"type\": \"scatterpolargl\"}], \"scatterternary\": [{\"marker\": {\"colorbar\": {\"outlinewidth\": 0, \"ticks\": \"\"}}, \"type\": \"scatterternary\"}], \"surface\": [{\"colorbar\": {\"outlinewidth\": 0, \"ticks\": \"\"}, \"colorscale\": [[0.0, \"#0d0887\"], [0.1111111111111111, \"#46039f\"], [0.2222222222222222, \"#7201a8\"], [0.3333333333333333, \"#9c179e\"], [0.4444444444444444, \"#bd3786\"], [0.5555555555555556, \"#d8576b\"], [0.6666666666666666, \"#ed7953\"], [0.7777777777777778, \"#fb9f3a\"], [0.8888888888888888, \"#fdca26\"], [1.0, \"#f0f921\"]], \"type\": \"surface\"}], \"table\": [{\"cells\": {\"fill\": {\"color\": \"#EBF0F8\"}, \"line\": {\"color\": \"white\"}}, \"header\": {\"fill\": {\"color\": \"#C8D4E3\"}, \"line\": {\"color\": \"white\"}}, \"type\": \"table\"}]}, \"layout\": {\"annotationdefaults\": {\"arrowcolor\": \"#2a3f5f\", \"arrowhead\": 0, \"arrowwidth\": 1}, \"coloraxis\": {\"colorbar\": {\"outlinewidth\": 0, \"ticks\": \"\"}}, \"colorscale\": {\"diverging\": [[0, \"#8e0152\"], [0.1, \"#c51b7d\"], [0.2, \"#de77ae\"], [0.3, \"#f1b6da\"], [0.4, \"#fde0ef\"], [0.5, \"#f7f7f7\"], [0.6, \"#e6f5d0\"], [0.7, \"#b8e186\"], [0.8, \"#7fbc41\"], [0.9, \"#4d9221\"], [1, \"#276419\"]], \"sequential\": [[0.0, \"#0d0887\"], [0.1111111111111111, \"#46039f\"], [0.2222222222222222, \"#7201a8\"], [0.3333333333333333, \"#9c179e\"], [0.4444444444444444, \"#bd3786\"], [0.5555555555555556, \"#d8576b\"], [0.6666666666666666, \"#ed7953\"], [0.7777777777777778, \"#fb9f3a\"], [0.8888888888888888, \"#fdca26\"], [1.0, \"#f0f921\"]], \"sequentialminus\": [[0.0, \"#0d0887\"], [0.1111111111111111, \"#46039f\"], [0.2222222222222222, \"#7201a8\"], [0.3333333333333333, \"#9c179e\"], [0.4444444444444444, \"#bd3786\"], [0.5555555555555556, \"#d8576b\"], [0.6666666666666666, \"#ed7953\"], [0.7777777777777778, \"#fb9f3a\"], [0.8888888888888888, \"#fdca26\"], [1.0, \"#f0f921\"]]}, \"colorway\": [\"#636efa\", \"#EF553B\", \"#00cc96\", \"#ab63fa\", \"#FFA15A\", \"#19d3f3\", \"#FF6692\", \"#B6E880\", \"#FF97FF\", \"#FECB52\"], \"font\": {\"color\": \"#2a3f5f\"}, \"geo\": {\"bgcolor\": \"white\", \"lakecolor\": \"white\", \"landcolor\": \"#E5ECF6\", \"showlakes\": true, \"showland\": true, \"subunitcolor\": \"white\"}, \"hoverlabel\": {\"align\": \"left\"}, \"hovermode\": \"closest\", \"mapbox\": {\"style\": \"light\"}, \"paper_bgcolor\": \"white\", \"plot_bgcolor\": \"#E5ECF6\", \"polar\": {\"angularaxis\": {\"gridcolor\": \"white\", \"linecolor\": \"white\", \"ticks\": \"\"}, \"bgcolor\": \"#E5ECF6\", \"radialaxis\": {\"gridcolor\": \"white\", \"linecolor\": \"white\", \"ticks\": \"\"}}, \"scene\": {\"xaxis\": {\"backgroundcolor\": \"#E5ECF6\", \"gridcolor\": \"white\", \"gridwidth\": 2, \"linecolor\": \"white\", \"showbackground\": true, \"ticks\": \"\", \"zerolinecolor\": \"white\"}, \"yaxis\": {\"backgroundcolor\": \"#E5ECF6\", \"gridcolor\": \"white\", \"gridwidth\": 2, \"linecolor\": \"white\", \"showbackground\": true, \"ticks\": \"\", \"zerolinecolor\": \"white\"}, \"zaxis\": {\"backgroundcolor\": \"#E5ECF6\", \"gridcolor\": \"white\", \"gridwidth\": 2, \"linecolor\": \"white\", \"showbackground\": true, \"ticks\": \"\", \"zerolinecolor\": \"white\"}}, \"shapedefaults\": {\"line\": {\"color\": \"#2a3f5f\"}}, \"ternary\": {\"aaxis\": {\"gridcolor\": \"white\", \"linecolor\": \"white\", \"ticks\": \"\"}, \"baxis\": {\"gridcolor\": \"white\", \"linecolor\": \"white\", \"ticks\": \"\"}, \"bgcolor\": \"#E5ECF6\", \"caxis\": {\"gridcolor\": \"white\", \"linecolor\": \"white\", \"ticks\": \"\"}}, \"title\": {\"x\": 0.05}, \"xaxis\": {\"automargin\": true, \"gridcolor\": \"white\", \"linecolor\": \"white\", \"ticks\": \"\", \"title\": {\"standoff\": 15}, \"zerolinecolor\": \"white\", \"zerolinewidth\": 2}, \"yaxis\": {\"automargin\": true, \"gridcolor\": \"white\", \"linecolor\": \"white\", \"ticks\": \"\", \"title\": {\"standoff\": 15}, \"zerolinecolor\": \"white\", \"zerolinewidth\": 2}}}, \"width\": 1000, \"xaxis\": {\"title\": {\"text\": \"Pearson correlation\"}}, \"yaxis\": {\"title\": {\"text\": \"Engineered features\"}}},\n",
              "                        {\"responsive\": true}\n",
              "                    ).then(function(){\n",
              "                            \n",
              "var gd = document.getElementById('ff2dc94e-305b-461b-bceb-c817e11406fc');\n",
              "var x = new MutationObserver(function (mutations, observer) {{\n",
              "        var display = window.getComputedStyle(gd).display;\n",
              "        if (!display || display === 'none') {{\n",
              "            console.log([gd, 'removed!']);\n",
              "            Plotly.purge(gd);\n",
              "            observer.disconnect();\n",
              "        }}\n",
              "}});\n",
              "\n",
              "// Listen for the removal of the full notebook cells\n",
              "var notebookContainer = gd.closest('#notebook-container');\n",
              "if (notebookContainer) {{\n",
              "    x.observe(notebookContainer, {childList: true});\n",
              "}}\n",
              "\n",
              "// Listen for the clearing of the current output cell\n",
              "var outputEl = gd.closest('.output');\n",
              "if (outputEl) {{\n",
              "    x.observe(outputEl, {childList: true});\n",
              "}}\n",
              "\n",
              "                        })\n",
              "                };\n",
              "                \n",
              "            </script>\n",
              "        </div>\n",
              "</body>\n",
              "</html>"
            ]
          },
          "metadata": {
            "tags": []
          }
        }
      ]
    }
  ]
}