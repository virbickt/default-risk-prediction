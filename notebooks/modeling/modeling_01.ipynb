{
  "nbformat": 4,
  "nbformat_minor": 0,
  "metadata": {
    "colab": {
      "name": "Untitled79.ipynb",
      "provenance": [],
      "authorship_tag": "ABX9TyOug5YVJQ4Uhz8tY1B5N8lq",
      "include_colab_link": true
    },
    "kernelspec": {
      "name": "python3",
      "display_name": "Python 3"
    },
    "language_info": {
      "name": "python"
    }
  },
  "cells": [
    {
      "cell_type": "markdown",
      "metadata": {
        "id": "view-in-github",
        "colab_type": "text"
      },
      "source": [
        "<a href=\"https://colab.research.google.com/github/virbickt/default-risk-prediction/blob/main/modeling_01.ipynb\" target=\"_parent\"><img src=\"https://colab.research.google.com/assets/colab-badge.svg\" alt=\"Open In Colab\"/></a>"
      ]
    },
    {
      "cell_type": "markdown",
      "metadata": {
        "id": "pzc8gts83Bsg"
      },
      "source": [
        "# Modelling"
      ]
    },
    {
      "cell_type": "markdown",
      "metadata": {
        "id": "QBbEI0AgeKsB"
      },
      "source": [
        "Before we proceed with the modelling part, let us bring all the preprocessing steps together in a function that serves as a data preprocessing pipeline (for we were unable to use the actual `sklearn.pipeline.Pipeline` because of the requirements for the components to implement `fit()` and `transform()`)."
      ]
    },
    {
      "cell_type": "code",
      "metadata": {
        "id": "L1pMPW9Ec7Ig"
      },
      "source": [
        "# load the version of data that comes after merging the tables\n",
        "WORKING_train = pd.read_csv(\"/content/drive/MyDrive/341/UPDATED_full_train.csv\")\n",
        "WORKING_test = pd.read_csv(\"/content/drive/MyDrive/341/UPDATED_full_test.csv\")\n",
        "WORKING_y = pd.read_csv(\"/content/drive/MyDrive/341/WORKING_y.csv\")\n",
        "WORKING_y = WORKING_y.iloc[:, 1]"
      ],
      "execution_count": null,
      "outputs": []
    },
    {
      "cell_type": "code",
      "metadata": {
        "colab": {
          "base_uri": "https://localhost:8080/"
        },
        "id": "jXVVwCAWee2E",
        "outputId": "23724e91-095c-4098-f26b-8d4d3a86e6ec"
      },
      "source": [
        "WORKING_train.shape, WORKING_test.shape"
      ],
      "execution_count": null,
      "outputs": [
        {
          "output_type": "execute_result",
          "data": {
            "text/plain": [
              "((307511, 212), (48744, 212))"
            ]
          },
          "metadata": {
            "tags": []
          },
          "execution_count": 5
        }
      ]
    },
    {
      "cell_type": "code",
      "metadata": {
        "id": "r_JBqDr-lPWZ"
      },
      "source": [
        "def processing_pipeline(\n",
        "    train: pd.DataFrame, test: pd.DataFrame, y: pd.Series\n",
        ") -> Tuple[pd.DataFrame, pd.DataFrame, pd.Series]:\n",
        "    \"\"\"\n",
        "    Applies all the preprocessing steps previously discussed in the notebook to both train and set sets in their original state.\n",
        "\n",
        "    :param train: dataframe that is be used as a train set, unprocessed\n",
        "    :param test: dataframe that is to be used as a test set, unprocessed\n",
        "\n",
        "    :return train_processed: dataframe to be used as a train set which had all the preprocessing steps applied to it\n",
        "    :return test_processed: dataframe to be used as a test set which had all the preprocessing steps applied to it\n",
        "    :return y: series with the values of the target variable. No processing has been applied to it so its returned in its original form.\n",
        "    \"\"\"\n",
        "\n",
        "    # make two copies:\n",
        "    train_processed = train.copy()\n",
        "    test_processed = test.copy()\n",
        "    x_modeling = train.copy()\n",
        "\n",
        "    # extract the predictors and leave out the id and the target so they are not treated as other numerical features\n",
        "    # train_processed = train_processed.iloc[:, 2:]\n",
        "\n",
        "    # initialize the list with AMT_REQ_CREDIT_BUREAU variables to have them preprocessed separately\n",
        "    amt_req_credit_bureau = [\n",
        "        \"AMT_REQ_CREDIT_BUREAU_YEAR\",\n",
        "        \"AMT_REQ_CREDIT_BUREAU_QRT\",\n",
        "        \"AMT_REQ_CREDIT_BUREAU_MON\",\n",
        "        \"AMT_REQ_CREDIT_BUREAU_WEEK\",\n",
        "        \"AMT_REQ_CREDIT_BUREAU_DAY\",\n",
        "        \"AMT_REQ_CREDIT_BUREAU_HOUR\",\n",
        "    ]\n",
        "\n",
        "    # initialize the list with housing-related variables to have them preprocessed separately\n",
        "    housing = [\n",
        "        \"AMT_ANNUITY_x\",\n",
        "        \"AMT_GOODS_PRICE_x\",\n",
        "        \"DAYS_EMPLOYED\",\n",
        "        \"CNT_FAM_MEMBERS\",\n",
        "        \"APARTMENTS_AVG\",\n",
        "        \"BASEMENTAREA_AVG\",\n",
        "        \"YEARS_BEGINEXPLUATATION_AVG\",\n",
        "        \"YEARS_BUILD_AVG\",\n",
        "        \"COMMONAREA_AVG\",\n",
        "        \"ELEVATORS_AVG\",\n",
        "        \"ENTRANCES_AVG\",\n",
        "        \"FLOORSMAX_AVG\",\n",
        "        \"FLOORSMIN_AVG\",\n",
        "        \"LANDAREA_AVG\",\n",
        "        \"LIVINGAPARTMENTS_AVG\",\n",
        "        \"LIVINGAREA_AVG\",\n",
        "        \"NONLIVINGAPARTMENTS_AVG\",\n",
        "        \"NONLIVINGAREA_AVG\",\n",
        "        \"APARTMENTS_MODE\",\n",
        "        \"BASEMENTAREA_MODE\",\n",
        "        \"YEARS_BEGINEXPLUATATION_MODE\",\n",
        "        \"YEARS_BUILD_MODE\",\n",
        "        \"COMMONAREA_MODE\",\n",
        "        \"ELEVATORS_MODE\",\n",
        "        \"ENTRANCES_MODE\",\n",
        "        \"FLOORSMAX_MODE\",\n",
        "        \"FLOORSMIN_MODE\",\n",
        "        \"LANDAREA_MODE\",\n",
        "        \"LIVINGAPARTMENTS_MODE\",\n",
        "        \"LIVINGAREA_MODE\",\n",
        "        \"NONLIVINGAPARTMENTS_MODE\",\n",
        "        \"NONLIVINGAREA_MODE\",\n",
        "        \"APARTMENTS_MEDI\",\n",
        "        \"BASEMENTAREA_MEDI\",\n",
        "        \"YEARS_BEGINEXPLUATATION_MEDI\",\n",
        "        \"YEARS_BUILD_MEDI\",\n",
        "        \"COMMONAREA_MEDI\",\n",
        "        \"ELEVATORS_MEDI\",\n",
        "        \"ENTRANCES_MEDI\",\n",
        "        \"FLOORSMAX_MEDI\",\n",
        "        \"FLOORSMIN_MEDI\",\n",
        "        \"LANDAREA_MEDI\",\n",
        "        \"LIVINGAPARTMENTS_MEDI\",\n",
        "        \"LIVINGAREA_MEDI\",\n",
        "        \"NONLIVINGAPARTMENTS_MEDI\",\n",
        "        \"NONLIVINGAREA_MEDI\",\n",
        "        \"TOTALAREA_MODE\",\n",
        "    ]\n",
        "\n",
        "    print(\n",
        "        f\"The shape of the datasets in their original state is {train_processed.shape} (train set), {test_processed.shape} (test set)\"\n",
        "    )\n",
        "\n",
        "    # replace outliers with NaNs\n",
        "    train_processed[train_processed[\"DAYS_EMPLOYED\"] / 365 > 80] = np.nan\n",
        "    test_processed[test_processed[\"DAYS_EMPLOYED\"] / 365 > 80] = np.nan\n",
        "\n",
        "    # flag missing values\n",
        "    indicator = AddMissingIndicator()\n",
        "    train_processed = indicator.fit_transform(train_processed)\n",
        "    test_processed = indicator.transform(test_processed)\n",
        "    print(\"Flagged features to be imputed\")\n",
        "\n",
        "    # make a new feature that tracks the initial number of missing values\n",
        "    for x in [train_processed, test_processed]:\n",
        "        x[\"MISSING_INFO_COUNT\"] = x.isnull().sum(axis=1)\n",
        "        x[\"CREDIT_ANNUITY_RATIO\"] = x[\"AMT_CREDIT_x\"] / (x[\"AMT_ANNUITY_x\"] + 0.00001)\n",
        "\n",
        "    x_cols = train_processed.columns\n",
        "    test_cols = test_processed.columns\n",
        "\n",
        "    # impute categorical variables separately:\n",
        "    cat_imputer = CategoricalImputer(\n",
        "        variables=train_processed.select_dtypes(\"object\").columns.tolist()\n",
        "    )\n",
        "    train_processed = cat_imputer.fit_transform(train_processed)\n",
        "    test_processed = cat_imputer.transform(test_processed)\n",
        "    print(\"Imputed cats\")\n",
        "\n",
        "    # impute AMT_REQ_CREDIT_BUREAU features separately\n",
        "    an_imputer = ArbitraryNumberImputer(\n",
        "        arbitrary_number=0, variables=amt_req_credit_bureau\n",
        "    )\n",
        "    train_processed = an_imputer.fit_transform(train_processed)\n",
        "    test_processed = an_imputer.transform(test_processed)\n",
        "    print(\"Imputed bureau\")\n",
        "\n",
        "    # impute housing-related variables separately\n",
        "    mm_imputer = MeanMedianImputer(imputation_method=\"median\", variables=housing)\n",
        "    train_processed = mm_imputer.fit_transform(train_processed)\n",
        "    test_processed = mm_imputer.transform(test_processed)\n",
        "\n",
        "    # pick up the categorical features now for it is the last part of the pipeline that returns the datafram instead on an ndarray\n",
        "    categorical_features = train_processed.select_dtypes(\"object\").columns.to_list()\n",
        "\n",
        "    # ohe_encoder = OneHotEncoder(handle_unknown=\"ignore\")\n",
        "    # train_processed = ohe_encoder.fit_transform(train_processed)\n",
        "    # test_processed = ohe_encoder.transform(test_processed)\n",
        "\n",
        "    # impute the missing values among the remaining variables\n",
        "    simp_imputer = SimpleImputer(strategy=\"constant\", fill_value=0)\n",
        "    train_processed = simp_imputer.fit_transform(train_processed)\n",
        "    test_processed = simp_imputer.transform(test_processed)\n",
        "\n",
        "    train_processed = pd.DataFrame(train_processed, columns=x_cols)\n",
        "    test_processed = pd.DataFrame(test_processed, columns=test_cols)\n",
        "\n",
        "    print(\"KNN-feature\")\n",
        "\n",
        "    # add a KNN classifier result as a feature\n",
        "    train_processed[\"TARGET\"] = y\n",
        "\n",
        "    knn = KNeighborsClassifier(500, n_jobs=-1)\n",
        "    train_data_for_neighbors = train_processed[\n",
        "        [\"EXT_SOURCE_1\", \"EXT_SOURCE_2\", \"EXT_SOURCE_3\", \"CREDIT_ANNUITY_RATIO\"]\n",
        "    ]\n",
        "\n",
        "    test_data_for_neighbors = test_processed[\n",
        "        [\"EXT_SOURCE_1\", \"EXT_SOURCE_2\", \"EXT_SOURCE_3\", \"CREDIT_ANNUITY_RATIO\"]\n",
        "    ]\n",
        "\n",
        "    knn.fit(train_data_for_neighbors, y)\n",
        "\n",
        "    train_500_neighbors = knn.kneighbors(train_data_for_neighbors)[1]\n",
        "    test_500_neighbors = knn.kneighbors(test_data_for_neighbors)[1]\n",
        "\n",
        "    train_processed[\"TARGET_NEIGHBORS_500_MEAN\"] = [\n",
        "        train_processed[\"TARGET\"].iloc[ele].mean() for ele in train_500_neighbors\n",
        "    ]\n",
        "    test_processed[\"TARGET_NEIGHBORS_500_MEAN\"] = [\n",
        "        train_processed[\"TARGET\"].iloc[ele].mean() for ele in test_500_neighbors\n",
        "    ]\n",
        "\n",
        "    train_processed[\"TARGET_NEIGHBORS_500_MEDIAN\"] = [\n",
        "        train_processed[\"TARGET\"].iloc[ele].median() for ele in train_500_neighbors\n",
        "    ]\n",
        "    test_processed[\"TARGET_NEIGHBORS_500_MEDIAN\"] = [\n",
        "        train_processed[\"TARGET\"].iloc[ele].median() for ele in test_500_neighbors\n",
        "    ]\n",
        "\n",
        "    train_processed[\"TARGET_NEIGHBORS_500_MIN\"] = [\n",
        "        train_processed[\"TARGET\"].iloc[ele].min() for ele in train_500_neighbors\n",
        "    ]\n",
        "    test_processed[\"TARGET_NEIGHBORS_500_MIN\"] = [\n",
        "        train_processed[\"TARGET\"].iloc[ele].min() for ele in test_500_neighbors\n",
        "    ]\n",
        "\n",
        "    train_processed[\"TARGET_NEIGHBORS_500_MAX\"] = [\n",
        "        train_processed[\"TARGET\"].iloc[ele].max() for ele in train_500_neighbors\n",
        "    ]\n",
        "    test_processed[\"TARGET_NEIGHBORS_500_MAX\"] = [\n",
        "        train_processed[\"TARGET\"].iloc[ele].max() for ele in test_500_neighbors\n",
        "    ]\n",
        "\n",
        "    train_processed[\"TARGET_NEIGHBORS_500_PROD\"] = [\n",
        "        train_processed[\"TARGET\"].iloc[ele].prod() for ele in train_500_neighbors\n",
        "    ]\n",
        "    test_processed[\"TARGET_NEIGHBORS_500_PROD\"] = [\n",
        "        train_processed[\"TARGET\"].iloc[ele].prod() for ele in test_500_neighbors\n",
        "    ]\n",
        "\n",
        "    train_processed[\"TARGET_NEIGHBORS_500_VAR\"] = [\n",
        "        train_processed[\"TARGET\"].iloc[ele].var() for ele in train_500_neighbors\n",
        "    ]\n",
        "    test_processed[\"TARGET_NEIGHBORS_500_VAR\"] = [\n",
        "        train_processed[\"TARGET\"].iloc[ele].var() for ele in test_500_neighbors\n",
        "    ]\n",
        "\n",
        "    train_processed = train_processed.drop([\"TARGET\"], axis=1)\n",
        "\n",
        "    print(\"STEP 2: TARGET_NEIGHBORS_500 has been added to both train and test sets\")\n",
        "\n",
        "    # encode the categorical variables using OneHotEncoder\n",
        "    ohe = OneHotEncoder(handle_unknown=\"ignore\")\n",
        "    train_processed = train_processed.join(\n",
        "        pd.DataFrame(ohe.fit_transform(train_processed[categorical_features]).toarray())\n",
        "    )\n",
        "    test_processed = test_processed.join(\n",
        "        pd.DataFrame(ohe.transform(test_processed[categorical_features]).toarray())\n",
        "    )\n",
        "\n",
        "    train_processed = train_processed.drop(categorical_features, axis=1)\n",
        "    test_processed = test_processed.drop(categorical_features, axis=1)\n",
        "\n",
        "    for x in [train_processed, test_processed]:\n",
        "        x[\"LOAN_RATE\"] = x[\"AMT_ANNUITY_x\"] + x[\"AMT_CREDIT_x\"]\n",
        "        x[\"*goods_to_loan_rate\"] = x[\"AMT_GOODS_PRICE_x\"] / (x[\"AMT_CREDIT_x\"] + 0.001)\n",
        "        x[\"*APPS_CREDIT_GOODS_DIFF\"] = x[\"AMT_CREDIT_x\"] - x[\"AMT_GOODS_PRICE_x\"]\n",
        "\n",
        "        x[\"*APPS_ANNUITY_INCOME_RATIO\"] = x[\"AMT_ANNUITY_x\"] / (\n",
        "            x[\"AMT_INCOME_TOTAL\"] + 0.001\n",
        "        )\n",
        "        x[\"*APPS_CREDIT_INCOME_RATIO\"] = x[\"AMT_CREDIT_x\"] / (\n",
        "            x[\"AMT_INCOME_TOTAL\"] + 0.001\n",
        "        )\n",
        "        x[\"*APPS_GOODS_INCOME_RATIO\"] = x[\"AMT_GOODS_PRICE_x\"] / (\n",
        "            x[\"AMT_INCOME_TOTAL\"] + 0.001\n",
        "        )\n",
        "\n",
        "        x[\"*APPS_CNT_FAM_INCOME_RATIO\"] = x[\"AMT_INCOME_TOTAL\"] / (\n",
        "            x[\"CNT_FAM_MEMBERS\"] + 0.001\n",
        "        )\n",
        "\n",
        "        x[\"*APPS_INCOME_EMPLOYED_RATIO\"] = x[\"AMT_INCOME_TOTAL\"] / (\n",
        "            x[\"DAYS_EMPLOYED\"] + 0.001\n",
        "        )\n",
        "        x[\"*APPS_INCOME_BIRTH_RATIO\"] = x[\"AMT_INCOME_TOTAL\"] / (\n",
        "            x[\"DAYS_BIRTH\"] + 0.001\n",
        "        )\n",
        "        x[\"*APPS_CAR_BIRTH_RATIO\"] = x[\"OWN_CAR_AGE\"] / (x[\"DAYS_BIRTH\"] + 0.001)\n",
        "        x[\"*APPS_CAR_EMPLOYED_RATIO\"] = x[\"OWN_CAR_AGE\"] / (x[\"DAYS_EMPLOYED\"] + 0.001)\n",
        "\n",
        "        x[\"*credit_income_ratio\"] = x[\"AMT_CREDIT_x\"] / (x[\"AMT_INCOME_TOTAL\"] + 0.001)\n",
        "        x[\"*employed_birth_ratio\"] = x[\"DAYS_EMPLOYED\"] / (x[\"DAYS_BIRTH\"] + 0.001)\n",
        "        x[\"EXT_SOURCES_PROD\"] = (\n",
        "            x[\"EXT_SOURCE_1\"] * x[\"EXT_SOURCE_2\"] * x[\"EXT_SOURCE_3\"]\n",
        "        )\n",
        "        x[\"EXT_SOURCES_WEIGHTED\"] = (\n",
        "            x.EXT_SOURCE_1 * 2 + x.EXT_SOURCE_2 * 1 + x.EXT_SOURCE_3 * 3\n",
        "        )\n",
        "\n",
        "        for function_name in [\"sum\", \"min\", \"max\", \"mean\", \"median\", \"var\"]:\n",
        "            feature_name = \"EXT_SOURCES_{}\".format(function_name.upper())\n",
        "            x[feature_name] = eval(\"np.{}\".format(function_name))(\n",
        "                x[[\"EXT_SOURCE_1\", \"EXT_SOURCE_2\", \"EXT_SOURCE_3\"]], axis=1\n",
        "            )\n",
        "\n",
        "        x[\"*AMT_REQ_SUM\"] = x[[x for x in x.columns if \"AMT_REQ_\" in x]].sum(axis=1)\n",
        "\n",
        "        x = x.drop([\"Unnamed: 0\"], axis=1)\n",
        "\n",
        "    # some instances of division has resulted in infinite values, replace them by zeroes\n",
        "    train_processed = train_processed.replace([np.inf, -np.inf], 0)\n",
        "    test_processed = test_processed.replace([np.inf, -np.inf], 0)\n",
        "\n",
        "    print(\n",
        "        f\"The shape of the datasets after all the features has been added: {train_processed.shape}, {test_processed.shape}\"\n",
        "    )\n",
        "\n",
        "    # save the columns so we can put the results of applying scaler back to a dataframe\n",
        "    x_cols = train_processed.columns\n",
        "    test_df_cols = test_processed.columns\n",
        "\n",
        "    print(f\"STEP X: Scaling of features has started.\")\n",
        "    scaler = MinMaxScaler()\n",
        "    train_processed = scaler.fit_transform(train_processed)\n",
        "    test_processed = scaler.transform(test_processed)\n",
        "\n",
        "    train_processed = pd.DataFrame(train_processed, columns=x_cols)\n",
        "    test_processed = pd.DataFrame(test_processed, columns=test_df_cols)\n",
        "    print(\n",
        "        f\"STEP X: Scaling has been succesful, the data has been returned in form of dataframes.\"\n",
        "    )\n",
        "\n",
        "    train_processed = train_processed.drop([\"Unnamed: 0\"], axis=1)\n",
        "    test_processed = test_processed.drop([\"Unnamed: 0\"], axis=1)\n",
        "\n",
        "    return train_processed, test_processed, y"
      ],
      "execution_count": null,
      "outputs": []
    },
    {
      "cell_type": "code",
      "metadata": {
        "colab": {
          "base_uri": "https://localhost:8080/"
        },
        "id": "6nT_a3ADdGCA",
        "outputId": "7fc408c4-d86f-49f6-e590-4af98c91b7e6"
      },
      "source": [
        "WORKING_train, WORKING_test, y = processing_pipeline(WORKING_train, WORKING_test, WORKING_y) #too few arguments for expanding the tuple; add y"
      ],
      "execution_count": null,
      "outputs": [
        {
          "output_type": "stream",
          "text": [
            "The shape of the datasets in their original state is (307511, 212) (train set), (48744, 212) (test set)\n",
            "STEP 1: Missing values has been sucessfully flagged and ready for imputation\n",
            "Imputed cats\n",
            "Imputed bureau\n",
            "knn\n",
            "The shape of the datasets after all the features has been added: (307511, 520), (48744, 520)\n",
            "STEP X: Scaling of features has started.\n",
            "STEP X: Scaling has been succesful, the data has been returned in form of dataframes.\n"
          ],
          "name": "stdout"
        }
      ]
    },
    {
      "cell_type": "code",
      "metadata": {
        "id": "SBzOslE4qKnj"
      },
      "source": [
        "def pipeline_vendor(x: pd.DataFrame, model) -> Pipeline:\n",
        "    \"\"\"\n",
        "    In addition to a regular pipeline it produces a list of categorical and numerical features that the pipeline would modify accordingly. Requires to keep TARGET inside the training set.\n",
        "    \"\"\"\n",
        "\n",
        "    # isolate the ids and target so that they are not processed as numerical variables; we need them raw\n",
        "\n",
        "    # convert all the columns stored inside an object wrapper as categories\n",
        "    # for col in x.select_dtypes(\"object\"):\n",
        "    #    x[col] = x[col].astype(\"category\")\n",
        "\n",
        "    # extract the predictors and leave out the id and the target so they are not treated as other numerical features\n",
        "\n",
        "    # initialize the list with AMT_REQ_CREDIT_BUREAU variables to have them preprocessed separately\n",
        "    amt_req_credit_bureau = [\n",
        "        \"AMT_REQ_CREDIT_BUREAU_YEAR\",\n",
        "        \"AMT_REQ_CREDIT_BUREAU_QRT\",\n",
        "        \"AMT_REQ_CREDIT_BUREAU_MON\",\n",
        "        \"AMT_REQ_CREDIT_BUREAU_WEEK\",\n",
        "        \"AMT_REQ_CREDIT_BUREAU_DAY\",\n",
        "        \"AMT_REQ_CREDIT_BUREAU_HOUR\",\n",
        "    ]\n",
        "\n",
        "    # initialize the list with housing-related variables to have them preprocessed separately\n",
        "    housing = [\n",
        "        \"AMT_ANNUITY_x\",\n",
        "        \"AMT_GOODS_PRICE_x\",\n",
        "        \"DAYS_EMPLOYED\",\n",
        "        \"CNT_FAM_MEMBERS\",\n",
        "        \"APARTMENTS_AVG\",\n",
        "        \"BASEMENTAREA_AVG\",\n",
        "        \"YEARS_BEGINEXPLUATATION_AVG\",\n",
        "        \"YEARS_BUILD_AVG\",\n",
        "        \"COMMONAREA_AVG\",\n",
        "        \"ELEVATORS_AVG\",\n",
        "        \"ENTRANCES_AVG\",\n",
        "        \"FLOORSMAX_AVG\",\n",
        "        \"FLOORSMIN_AVG\",\n",
        "        \"LANDAREA_AVG\",\n",
        "        \"LIVINGAPARTMENTS_AVG\",\n",
        "        \"LIVINGAREA_AVG\",\n",
        "        \"NONLIVINGAPARTMENTS_AVG\",\n",
        "        \"NONLIVINGAREA_AVG\",\n",
        "        \"APARTMENTS_MODE\",\n",
        "        \"BASEMENTAREA_MODE\",\n",
        "        \"YEARS_BEGINEXPLUATATION_MODE\",\n",
        "        \"YEARS_BUILD_MODE\",\n",
        "        \"COMMONAREA_MODE\",\n",
        "        \"ELEVATORS_MODE\",\n",
        "        \"ENTRANCES_MODE\",\n",
        "        \"FLOORSMAX_MODE\",\n",
        "        \"FLOORSMIN_MODE\",\n",
        "        \"LANDAREA_MODE\",\n",
        "        \"LIVINGAPARTMENTS_MODE\",\n",
        "        \"LIVINGAREA_MODE\",\n",
        "        \"NONLIVINGAPARTMENTS_MODE\",\n",
        "        \"NONLIVINGAREA_MODE\",\n",
        "        \"APARTMENTS_MEDI\",\n",
        "        \"BASEMENTAREA_MEDI\",\n",
        "        \"YEARS_BEGINEXPLUATATION_MEDI\",\n",
        "        \"YEARS_BUILD_MEDI\",\n",
        "        \"COMMONAREA_MEDI\",\n",
        "        \"ELEVATORS_MEDI\",\n",
        "        \"ENTRANCES_MEDI\",\n",
        "        \"FLOORSMAX_MEDI\",\n",
        "        \"FLOORSMIN_MEDI\",\n",
        "        \"LANDAREA_MEDI\",\n",
        "        \"LIVINGAPARTMENTS_MEDI\",\n",
        "        \"LIVINGAREA_MEDI\",\n",
        "        \"NONLIVINGAPARTMENTS_MEDI\",\n",
        "        \"NONLIVINGAREA_MEDI\",\n",
        "        \"TOTALAREA_MODE\",\n",
        "    ]\n",
        "\n",
        "    print(f\"The shape of the datasets in their original state is {x.shape} (train set)\")\n",
        "\n",
        "    # categorical features are imputed by the most frequent value and encoded by OHE\n",
        "    categorical_transformer = Pipeline(\n",
        "        steps=[\n",
        "            (\n",
        "                \"imputer\",\n",
        "                CategoricalImputer(\n",
        "                    variables=x.select_dtypes(include=[\"object\"]).columns.tolist()\n",
        "                ),\n",
        "            ),\n",
        "            (\"encoder\", OneHotEncoder(handle_unknown=\"ignore\")),\n",
        "        ]\n",
        "    )\n",
        "\n",
        "    # numerical features are imputed and scaled\n",
        "    numerical_transformer = Pipeline(\n",
        "        steps=[\n",
        "            (\n",
        "                # bureau-related features are imputed by zeros\n",
        "                \"amt_imputer\",\n",
        "                ArbitraryNumberImputer(\n",
        "                    arbitrary_number=0, variables=amt_req_credit_bureau\n",
        "                ),\n",
        "            ),\n",
        "            (\n",
        "                # housing-related features are imputed by means\n",
        "                \"housing_imputer\",\n",
        "                MeanMedianImputer(variables=housing),\n",
        "            ),\n",
        "            # engineered features added\n",
        "            (\"engineer_features\", EngineerFeatures()),\n",
        "            (\"imputer\", SimpleImputer(strategy=\"most_frequent\")),\n",
        "            (\"scaler\", RobustScaler()),\n",
        "        ]\n",
        "    )\n",
        "\n",
        "    # column transformer that modifies the categorical and numerical features accordingly\n",
        "    preprocessor = ColumnTransformer(\n",
        "        transformers=[\n",
        "            (\n",
        "                \"categorical\",\n",
        "                categorical_transformer,\n",
        "                x.select_dtypes(include=[\"object\"]).columns.tolist(),\n",
        "            ),\n",
        "            (\n",
        "                \"numerical\",\n",
        "                numerical_transformer,\n",
        "                x.select_dtypes(exclude=[\"object\"]).columns.tolist(),\n",
        "            ),\n",
        "        ]\n",
        "    )\n",
        "\n",
        "    # in addition to the preprocessing steps described above, values to be imputed are counted and flagged\n",
        "    main_pipe = Pipeline(\n",
        "        steps=[\n",
        "            (\"indicator\", AddMissingIndicator()),\n",
        "            (\"tracker\", MissingTracker()),\n",
        "            (\"preprocessor\", preprocessor),\n",
        "            (\"model\", model),\n",
        "        ]\n",
        "    )\n",
        "\n",
        "    return main_pipe"
      ],
      "execution_count": null,
      "outputs": []
    },
    {
      "cell_type": "code",
      "metadata": {
        "id": "7-1LMCrKaEot"
      },
      "source": [
        "class MissingTracker(BaseEstimator, TransformerMixin):\n",
        "    \"\"\"\n",
        "    Adds a column vector which has the number of missing values for each row as a value.\n",
        "\n",
        "    :param additional: a number of copies of newly engineered features to add\n",
        "    \"\"\"\n",
        "\n",
        "    def __init__(self, additional: int = 1) -> None:\n",
        "        self.additional = additional\n",
        "\n",
        "    def fit(self, x: pd.DataFrame, y: pd.Series = None) -> None:\n",
        "        return self\n",
        "\n",
        "    def transform(self, x: pd.DataFrame) -> pd.DataFrame:\n",
        "        \"\"\"\n",
        "        Adds new features to the dataset.\n",
        "\n",
        "        :param x: dataframe which will have new features added to it\n",
        "        :return: dataframe with the new features added\n",
        "        \"\"\"\n",
        "        if self.additional == 1:\n",
        "            x[\"MISSING_INFO_COUNT\"] = x.isnull().sum(axis=1)  # separate class\n",
        "\n",
        "        return x"
      ],
      "execution_count": null,
      "outputs": []
    },
    {
      "cell_type": "code",
      "metadata": {
        "id": "xpJFH-lxZOVz"
      },
      "source": [
        "class EngineerFeatures(BaseEstimator, TransformerMixin):\n",
        "    \"\"\"\n",
        "    Adds domain-informed features that are not found in the original dataset.\n",
        "\n",
        "    :param additional: a number of copies of newly engineered features to add\n",
        "    \"\"\"\n",
        "\n",
        "    def __init__(self, additional: int = 1) -> None:\n",
        "        self.additional = additional\n",
        "\n",
        "    def fit(self, x: pd.DataFrame, y: pd.Series = None) -> None:\n",
        "        return self\n",
        "\n",
        "    def transform(self, x: pd.DataFrame) -> pd.DataFrame:\n",
        "        \"\"\"\n",
        "        Adds new features to the dataset.\n",
        "\n",
        "        :param x: dataframe which will have new features added to it\n",
        "        :return: dataframe with the new features added\n",
        "        \"\"\"\n",
        "        if self.additional == 1:\n",
        "            x[\"CREDIT_ANNUITY_RATIO\"] = x[\"AMT_CREDIT_x\"] / (\n",
        "                x[\"AMT_ANNUITY_x\"] + 0.00001\n",
        "            )\n",
        "            x['LOAN_RATE'] = x['AMT_ANNUITY_x'] + x['AMT_CREDIT_x']\n",
        "            x['*goods_to_loan_rate'] = x['AMT_GOODS_PRICE_x'] / (x['AMT_CREDIT_x'] + 0.001)\n",
        "            x['*APPS_CREDIT_GOODS_DIFF'] = x['AMT_CREDIT_x'] - x['AMT_GOODS_PRICE_x']\n",
        "\n",
        "            x['*APPS_ANNUITY_INCOME_RATIO'] = x['AMT_ANNUITY_x']/(x['AMT_INCOME_TOTAL'] + 0.001)\n",
        "            x['*APPS_CREDIT_INCOME_RATIO'] = x['AMT_CREDIT_x']/(x['AMT_INCOME_TOTAL'] + 0.001)\n",
        "            x['*APPS_GOODS_INCOME_RATIO'] = x['AMT_GOODS_PRICE_x']/(x['AMT_INCOME_TOTAL'] + 0.001)\n",
        "\n",
        "            x['*APPS_CNT_FAM_INCOME_RATIO'] = x['AMT_INCOME_TOTAL']/(x['CNT_FAM_MEMBERS'] + 0.001)\n",
        "\n",
        "            x['*APPS_INCOME_EMPLOYED_RATIO'] = x['AMT_INCOME_TOTAL']/(x['DAYS_EMPLOYED'] + 0.001)\n",
        "            x['*APPS_INCOME_BIRTH_RATIO'] = x['AMT_INCOME_TOTAL']/(x['DAYS_BIRTH'] + 0.001)\n",
        "            x['*APPS_CAR_BIRTH_RATIO'] = x['OWN_CAR_AGE'] / (x['DAYS_BIRTH'] + 0.001)\n",
        "            x['*APPS_CAR_EMPLOYED_RATIO'] = x['OWN_CAR_AGE'] / (x['DAYS_EMPLOYED'] + 0.001)\n",
        "\n",
        "            x['*credit_income_ratio'] = x['AMT_CREDIT_x'] / (x['AMT_INCOME_TOTAL'] + 0.001)\n",
        "            x['*employed_birth_ratio'] = x['DAYS_EMPLOYED'] / (x['DAYS_BIRTH'] + 0.001)\n",
        "            x[\"EXT_SOURCES_PROD\"] = (\n",
        "                x[\"EXT_SOURCE_1\"] * x[\"EXT_SOURCE_2\"] * x[\"EXT_SOURCE_3\"]\n",
        "            )\n",
        "            x[\"EXT_SOURCES_WEIGHTED\"] = (\n",
        "                x.EXT_SOURCE_1 * 2 + x.EXT_SOURCE_2 * 1 + x.EXT_SOURCE_3 * 3\n",
        "            )\n",
        "\n",
        "            for function_name in [\"sum\", \"min\", \"max\", \"mean\", \"nanmedian\", \"var\"]:\n",
        "                feature_name = \"EXT_SOURCES_{}\".format(function_name.upper())\n",
        "                x[feature_name] = eval(\"np.{}\".format(function_name))(\n",
        "                    x[[\"EXT_SOURCE_1\", \"EXT_SOURCE_2\", \"EXT_SOURCE_3\"]], axis=1\n",
        "                )\n",
        "\n",
        "             x[\"*AMT_REQ_SUM\"] = x[[x for x in x.columns if \"AMT_REQ_\" in x]].sum(axis=1)\n",
        "\n",
        "             x = x.drop([\"Unnamed: 0\"], axis=1)\n",
        "\n",
        "        return x"
      ],
      "execution_count": null,
      "outputs": []
    },
    {
      "cell_type": "code",
      "metadata": {
        "id": "m42jU3tGqtdl",
        "colab": {
          "base_uri": "https://localhost:8080/"
        },
        "outputId": "7c29e7a4-4f16-4316-a881-a85ccd1aa9ef"
      },
      "source": [
        "lr = LogisticRegression()\n",
        "pipe = pipeline_vendor(WORKING_train, lr)"
      ],
      "execution_count": null,
      "outputs": [
        {
          "output_type": "stream",
          "text": [
            "The shape of the datasets in their original state is (307511, 212) (train set)\n"
          ],
          "name": "stdout"
        }
      ]
    },
    {
      "cell_type": "code",
      "metadata": {
        "id": "TyEGIJm4r1we",
        "colab": {
          "base_uri": "https://localhost:8080/"
        },
        "outputId": "a784a0da-ffb1-48fd-f219-4e3a45e78fe5"
      },
      "source": [
        "pipe.fit(WORKING_train, WORKING_y)"
      ],
      "execution_count": null,
      "outputs": [
        {
          "output_type": "execute_result",
          "data": {
            "text/plain": [
              "Pipeline(steps=[('indicator', AddMissingIndicator()),\n",
              "                ('tracker', MissingTracker()),\n",
              "                ('preprocessor',\n",
              "                 ColumnTransformer(transformers=[('categorical',\n",
              "                                                  Pipeline(steps=[('imputer',\n",
              "                                                                   CategoricalImputer(variables=['NAME_CONTRACT_TYPE',\n",
              "                                                                                                 'CODE_GENDER',\n",
              "                                                                                                 'FLAG_OWN_CAR',\n",
              "                                                                                                 'FLAG_OWN_REALTY',\n",
              "                                                                                                 'NAME_TYPE_SUITE',\n",
              "                                                                                                 'NAME_INCOME_TYPE',\n",
              "                                                                                                 'NAME_EDUCATION_TYPE',\n",
              "                                                                                                 'NAME_FAMILY_STATUS',\n",
              "                                                                                                 '...\n",
              "                                                   'FLAG_EMP_PHONE',\n",
              "                                                   'FLAG_WORK_PHONE',\n",
              "                                                   'FLAG_CONT_MOBILE',\n",
              "                                                   'FLAG_PHONE', 'FLAG_EMAIL',\n",
              "                                                   'CNT_FAM_MEMBERS',\n",
              "                                                   'REGION_RATING_CLIENT',\n",
              "                                                   'REGION_RATING_CLIENT_W_CITY',\n",
              "                                                   'HOUR_APPR_PROCESS_START_x',\n",
              "                                                   'REG_REGION_NOT_LIVE_REGION',\n",
              "                                                   'REG_REGION_NOT_WORK_REGION',\n",
              "                                                   'LIVE_REGION_NOT_WORK_REGION',\n",
              "                                                   'REG_CITY_NOT_LIVE_CITY',\n",
              "                                                   'REG_CITY_NOT_WORK_CITY', ...])])),\n",
              "                ('model', LogisticRegression())])"
            ]
          },
          "metadata": {
            "tags": []
          },
          "execution_count": 32
        }
      ]
    },
    {
      "cell_type": "markdown",
      "metadata": {
        "id": "u8mf7b_63CmQ"
      },
      "source": [
        "## Baseline"
      ]
    },
    {
      "cell_type": "code",
      "metadata": {
        "id": "0OPyeli-uzje"
      },
      "source": [
        "WORKING_train = pd.read_csv(\"/content/drive/MyDrive/341/ALL_INCLUDED_train.csv\")\n",
        "WORKING_test = pd.read_csv(\"/content/drive/MyDrive/341/ALL_INCLUDED_test.csv\")\n",
        "WORKING_y = pd.read_csv(\"/content/drive/MyDrive/341/WORKING_y.csv\")\n",
        "WORKING_y = WORKING_y.iloc[:, 1]"
      ],
      "execution_count": null,
      "outputs": []
    },
    {
      "cell_type": "code",
      "metadata": {
        "id": "xeG-jWIqu0yZ"
      },
      "source": [
        "X_train, X_test, y_train, y_test = train_test_split(WORKING_train, WORKING_y, test_size=0.3, random_state=RANDOM_STATE)"
      ],
      "execution_count": null,
      "outputs": []
    },
    {
      "cell_type": "markdown",
      "metadata": {
        "id": "8k352uiC9e-f"
      },
      "source": [
        "### LogisticRegression"
      ]
    },
    {
      "cell_type": "code",
      "metadata": {
        "id": "Y-X1VlQWxhbP",
        "colab": {
          "base_uri": "https://localhost:8080/"
        },
        "outputId": "f145a116-81dc-4440-875b-c2dfaa128f8a"
      },
      "source": [
        "lr = LogisticRegression(class_weight='balanced', random_state=RANDOM_STATE)\n",
        "\n",
        "lr.fit(X_train, y_train)\n",
        "y_pred = lr.predict(X_test)\n",
        "\n",
        "lr_score = roc_auc_score(y_test, y_pred)\n",
        "cm_lr = confusion_matrix(y_test, y_pred)\n",
        "\n",
        "print(f\"{lr_score}\")\n",
        "lb_lr = 0.59895"
      ],
      "execution_count": null,
      "outputs": [
        {
          "output_type": "stream",
          "text": [
            "0.5\n"
          ],
          "name": "stdout"
        }
      ]
    },
    {
      "cell_type": "markdown",
      "metadata": {
        "id": "Kt2310cu9imV"
      },
      "source": [
        "### RandomForestClassifier"
      ]
    },
    {
      "cell_type": "code",
      "metadata": {
        "id": "IfV0K-PgH3kF",
        "colab": {
          "base_uri": "https://localhost:8080/"
        },
        "outputId": "7f172403-12d5-4ce9-d44e-11d9588faf7f"
      },
      "source": [
        "rf = RandomForestClassifier(class_weight='balanced', random_state=RANDOM_STATE)\n",
        "\n",
        "rf.fit(X_train, y_train)\n",
        "y_pred = rf.predict(X_test)\n",
        "\n",
        "rf_score = roc_auc_score(y_test, y_pred)\n",
        "cm_rf = confusion_matrix(y_test, y_pred)\n",
        "\n",
        "print(f\"{rf_score}\")\n",
        "rf_lb = 0.59895"
      ],
      "execution_count": null,
      "outputs": [
        {
          "output_type": "stream",
          "text": [
            "0.5040195243794813\n"
          ],
          "name": "stdout"
        }
      ]
    },
    {
      "cell_type": "markdown",
      "metadata": {
        "id": "eoEMi7HW9o_E"
      },
      "source": [
        "### LGBMClassifier"
      ]
    },
    {
      "cell_type": "code",
      "metadata": {
        "id": "ynXezWWy9X8U",
        "colab": {
          "base_uri": "https://localhost:8080/"
        },
        "outputId": "0b168420-3c2f-48da-d0f9-2efb7ad5c24a"
      },
      "source": [
        "lgbm = LGBMClassifier(class_weight='balanced', random_state=RANDOM_STATE)\n",
        "\n",
        "lgbm.fit(X_train, y_train)\n",
        "y_pred = lgbm.predict(X_test)\n",
        "\n",
        "lgbm_score = roc_auc_score(y_test, y_pred)\n",
        "cm_lgbm = confusion_matrix(y_test, y_pred)\n",
        "\n",
        "print(f\"{lgbm_score}\")\n",
        "lb_lgbm = 0.59895"
      ],
      "execution_count": null,
      "outputs": [
        {
          "output_type": "stream",
          "text": [
            "0.7127138743900443\n"
          ],
          "name": "stdout"
        }
      ]
    },
    {
      "cell_type": "markdown",
      "metadata": {
        "id": "mWLYpdAeIjVd"
      },
      "source": [
        "## Confusion matrices"
      ]
    },
    {
      "cell_type": "code",
      "metadata": {
        "id": "NLuqXS7mIVbk",
        "colab": {
          "base_uri": "https://localhost:8080/",
          "height": 385
        },
        "outputId": "b02865ac-a688-47cf-c3ba-b81186972d97"
      },
      "source": [
        "plt.figure(figsize=(20,10))\n",
        "plt.suptitle(\"Confusion Matrices of Classification Models\",fontsize=30)\n",
        "\n",
        "plt.subplot(2,3,1)\n",
        "plt.title(\"LogisticRegression\")\n",
        "sns.heatmap(cm_lr,annot=True,cmap='YlGnBu',fmt=\".0f\",cbar=False)\n",
        "\n",
        "plt.subplot(2,3,2)\n",
        "plt.title(\"RandomForestClassifier\")\n",
        "sns.heatmap(cm_rf,annot=True,cmap='YlGnBu',fmt=\".0f\",cbar=False)\n",
        "\n",
        "plt.subplot(2,3,3)\n",
        "plt.title(\"LGBMClassifier\")\n",
        "sns.heatmap(cm_lgbm,annot=True,cmap='YlGnBu',fmt=\".0f\",cbar=False)"
      ],
      "execution_count": null,
      "outputs": [
        {
          "output_type": "execute_result",
          "data": {
            "text/plain": [
              "<matplotlib.axes._subplots.AxesSubplot at 0x7fbecd3c9050>"
            ]
          },
          "metadata": {
            "tags": []
          },
          "execution_count": 114
        },
        {
          "output_type": "display_data",
          "data": {
            "image/png": "[encoded data removed]",
            "text/plain": [
              "<Figure size 1440x720 with 3 Axes>"
            ]
          },
          "metadata": {
            "tags": [],
            "needs_background": "light"
          }
        }
      ]
    },
    {
      "cell_type": "markdown",
      "metadata": {
        "id": "YcHv3kNWwlqP"
      },
      "source": [
        "## Feature importances"
      ]
    },
    {
      "cell_type": "markdown",
      "metadata": {
        "id": "k1HosyShJG-g"
      },
      "source": [
        "### Logistic Regression (coefficients)"
      ]
    },
    {
      "cell_type": "code",
      "metadata": {
        "id": "6Yn8sDpExQvr",
        "colab": {
          "base_uri": "https://localhost:8080/",
          "height": 358
        },
        "outputId": "cd6e8567-d7b8-461b-d50b-123b06524b3a"
      },
      "source": [
        "importances = pd.DataFrame(\n",
        "    {\"feature\": WORKING_train.columns, \"coefficients\": lr.coef_[0].tolist()}\n",
        ")\n",
        "importances.nlargest(10, 'coefficients')"
      ],
      "execution_count": null,
      "outputs": [
        {
          "output_type": "execute_result",
          "data": {
            "text/html": [
              "<div>\n",
              "<style scoped>\n",
              "    .dataframe tbody tr th:only-of-type {\n",
              "        vertical-align: middle;\n",
              "    }\n",
              "\n",
              "    .dataframe tbody tr th {\n",
              "        vertical-align: top;\n",
              "    }\n",
              "\n",
              "    .dataframe thead th {\n",
              "        text-align: right;\n",
              "    }\n",
              "</style>\n",
              "<table border=\"1\" class=\"dataframe\">\n",
              "  <thead>\n",
              "    <tr style=\"text-align: right;\">\n",
              "      <th></th>\n",
              "      <th>feature</th>\n",
              "      <th>coefficients</th>\n",
              "    </tr>\n",
              "  </thead>\n",
              "  <tbody>\n",
              "    <tr>\n",
              "      <th>361</th>\n",
              "      <td>TARGET_NEIGHBORS_500_VAR</td>\n",
              "      <td>2.323885</td>\n",
              "    </tr>\n",
              "    <tr>\n",
              "      <th>116</th>\n",
              "      <td>CNT_PAYMENT</td>\n",
              "      <td>1.639761</td>\n",
              "    </tr>\n",
              "    <tr>\n",
              "      <th>157</th>\n",
              "      <td>STAT_ACTIVE</td>\n",
              "      <td>1.457773</td>\n",
              "    </tr>\n",
              "    <tr>\n",
              "      <th>128</th>\n",
              "      <td>SHORT_ON_PAYMENT_RATIO</td>\n",
              "      <td>1.059348</td>\n",
              "    </tr>\n",
              "    <tr>\n",
              "      <th>3</th>\n",
              "      <td>AMT_ANNUITY_x</td>\n",
              "      <td>1.007240</td>\n",
              "    </tr>\n",
              "    <tr>\n",
              "      <th>142</th>\n",
              "      <td>CNT_DRAWINGS_ATM_CURRENT</td>\n",
              "      <td>0.973112</td>\n",
              "    </tr>\n",
              "    <tr>\n",
              "      <th>2</th>\n",
              "      <td>AMT_CREDIT_x</td>\n",
              "      <td>0.941893</td>\n",
              "    </tr>\n",
              "    <tr>\n",
              "      <th>130</th>\n",
              "      <td>AMT_BALANCE</td>\n",
              "      <td>0.831593</td>\n",
              "    </tr>\n",
              "    <tr>\n",
              "      <th>141</th>\n",
              "      <td>AMT_TOTAL_RECEIVABLE</td>\n",
              "      <td>0.820438</td>\n",
              "    </tr>\n",
              "    <tr>\n",
              "      <th>140</th>\n",
              "      <td>AMT_RECIVABLE</td>\n",
              "      <td>0.820287</td>\n",
              "    </tr>\n",
              "  </tbody>\n",
              "</table>\n",
              "</div>"
            ],
            "text/plain": [
              "                      feature  coefficients\n",
              "361  TARGET_NEIGHBORS_500_VAR      2.323885\n",
              "116               CNT_PAYMENT      1.639761\n",
              "157               STAT_ACTIVE      1.457773\n",
              "128    SHORT_ON_PAYMENT_RATIO      1.059348\n",
              "3               AMT_ANNUITY_x      1.007240\n",
              "142  CNT_DRAWINGS_ATM_CURRENT      0.973112\n",
              "2                AMT_CREDIT_x      0.941893\n",
              "130               AMT_BALANCE      0.831593\n",
              "141      AMT_TOTAL_RECEIVABLE      0.820438\n",
              "140             AMT_RECIVABLE      0.820287"
            ]
          },
          "metadata": {
            "tags": []
          },
          "execution_count": 116
        }
      ]
    },
    {
      "cell_type": "markdown",
      "metadata": {
        "id": "hHJfJ7keJMod"
      },
      "source": [
        "### RandomForestClassifier"
      ]
    },
    {
      "cell_type": "code",
      "metadata": {
        "id": "ZuRc4IHuJMod",
        "colab": {
          "base_uri": "https://localhost:8080/",
          "height": 358
        },
        "outputId": "40bfbd38-3eb0-413b-bb73-da9cd87fc5c5"
      },
      "source": [
        "importances = pd.DataFrame(\n",
        "    {\"feature\": WORKING_train.columns, \"feature_importances\": rf.feature_importances_.tolist()}\n",
        ")\n",
        "importances.nlargest(10, 'feature_importances')"
      ],
      "execution_count": null,
      "outputs": [
        {
          "output_type": "execute_result",
          "data": {
            "text/html": [
              "<div>\n",
              "<style scoped>\n",
              "    .dataframe tbody tr th:only-of-type {\n",
              "        vertical-align: middle;\n",
              "    }\n",
              "\n",
              "    .dataframe tbody tr th {\n",
              "        vertical-align: top;\n",
              "    }\n",
              "\n",
              "    .dataframe thead th {\n",
              "        text-align: right;\n",
              "    }\n",
              "</style>\n",
              "<table border=\"1\" class=\"dataframe\">\n",
              "  <thead>\n",
              "    <tr style=\"text-align: right;\">\n",
              "      <th></th>\n",
              "      <th>feature</th>\n",
              "      <th>feature_importances</th>\n",
              "    </tr>\n",
              "  </thead>\n",
              "  <tbody>\n",
              "    <tr>\n",
              "      <th>356</th>\n",
              "      <td>TARGET_NEIGHBORS_500_MEAN</td>\n",
              "      <td>0.026008</td>\n",
              "    </tr>\n",
              "    <tr>\n",
              "      <th>361</th>\n",
              "      <td>TARGET_NEIGHBORS_500_VAR</td>\n",
              "      <td>0.024652</td>\n",
              "    </tr>\n",
              "    <tr>\n",
              "      <th>353</th>\n",
              "      <td>EXT_SOURCES_MEAN</td>\n",
              "      <td>0.020081</td>\n",
              "    </tr>\n",
              "    <tr>\n",
              "      <th>351</th>\n",
              "      <td>EXT_SOURCES_MIN</td>\n",
              "      <td>0.019307</td>\n",
              "    </tr>\n",
              "    <tr>\n",
              "      <th>354</th>\n",
              "      <td>EXT_SOURCES_NANMEDIAN</td>\n",
              "      <td>0.017598</td>\n",
              "    </tr>\n",
              "    <tr>\n",
              "      <th>352</th>\n",
              "      <td>EXT_SOURCES_MAX</td>\n",
              "      <td>0.016461</td>\n",
              "    </tr>\n",
              "    <tr>\n",
              "      <th>28</th>\n",
              "      <td>EXT_SOURCE_2</td>\n",
              "      <td>0.015342</td>\n",
              "    </tr>\n",
              "    <tr>\n",
              "      <th>6</th>\n",
              "      <td>DAYS_BIRTH</td>\n",
              "      <td>0.012923</td>\n",
              "    </tr>\n",
              "    <tr>\n",
              "      <th>9</th>\n",
              "      <td>DAYS_ID_PUBLISH</td>\n",
              "      <td>0.012674</td>\n",
              "    </tr>\n",
              "    <tr>\n",
              "      <th>8</th>\n",
              "      <td>DAYS_REGISTRATION</td>\n",
              "      <td>0.012411</td>\n",
              "    </tr>\n",
              "  </tbody>\n",
              "</table>\n",
              "</div>"
            ],
            "text/plain": [
              "                       feature  feature_importances\n",
              "356  TARGET_NEIGHBORS_500_MEAN             0.026008\n",
              "361   TARGET_NEIGHBORS_500_VAR             0.024652\n",
              "353           EXT_SOURCES_MEAN             0.020081\n",
              "351            EXT_SOURCES_MIN             0.019307\n",
              "354      EXT_SOURCES_NANMEDIAN             0.017598\n",
              "352            EXT_SOURCES_MAX             0.016461\n",
              "28                EXT_SOURCE_2             0.015342\n",
              "6                   DAYS_BIRTH             0.012923\n",
              "9              DAYS_ID_PUBLISH             0.012674\n",
              "8            DAYS_REGISTRATION             0.012411"
            ]
          },
          "metadata": {
            "tags": []
          },
          "execution_count": 124
        }
      ]
    },
    {
      "cell_type": "markdown",
      "metadata": {
        "id": "tCMBllHsJV_W"
      },
      "source": [
        "### LGBMClassifier"
      ]
    },
    {
      "cell_type": "code",
      "metadata": {
        "id": "ipMPJ81-JV_W",
        "colab": {
          "base_uri": "https://localhost:8080/",
          "height": 358
        },
        "outputId": "ab814b66-412d-41f6-ed3b-4304e94d46f4"
      },
      "source": [
        "importances = pd.DataFrame(\n",
        "    {\"feature\": WORKING_train.columns, \"feature_importances\": lgbm.feature_importances_.tolist()}\n",
        ")\n",
        "importances.nlargest(10, 'feature_importances')"
      ],
      "execution_count": null,
      "outputs": [
        {
          "output_type": "execute_result",
          "data": {
            "text/html": [
              "<div>\n",
              "<style scoped>\n",
              "    .dataframe tbody tr th:only-of-type {\n",
              "        vertical-align: middle;\n",
              "    }\n",
              "\n",
              "    .dataframe tbody tr th {\n",
              "        vertical-align: top;\n",
              "    }\n",
              "\n",
              "    .dataframe thead th {\n",
              "        text-align: right;\n",
              "    }\n",
              "</style>\n",
              "<table border=\"1\" class=\"dataframe\">\n",
              "  <thead>\n",
              "    <tr style=\"text-align: right;\">\n",
              "      <th></th>\n",
              "      <th>feature</th>\n",
              "      <th>feature_importances</th>\n",
              "    </tr>\n",
              "  </thead>\n",
              "  <tbody>\n",
              "    <tr>\n",
              "      <th>361</th>\n",
              "      <td>TARGET_NEIGHBORS_500_VAR</td>\n",
              "      <td>113</td>\n",
              "    </tr>\n",
              "    <tr>\n",
              "      <th>6</th>\n",
              "      <td>DAYS_BIRTH</td>\n",
              "      <td>86</td>\n",
              "    </tr>\n",
              "    <tr>\n",
              "      <th>351</th>\n",
              "      <td>EXT_SOURCES_MIN</td>\n",
              "      <td>86</td>\n",
              "    </tr>\n",
              "    <tr>\n",
              "      <th>116</th>\n",
              "      <td>CNT_PAYMENT</td>\n",
              "      <td>78</td>\n",
              "    </tr>\n",
              "    <tr>\n",
              "      <th>124</th>\n",
              "      <td>LATE</td>\n",
              "      <td>62</td>\n",
              "    </tr>\n",
              "    <tr>\n",
              "      <th>128</th>\n",
              "      <td>SHORT_ON_PAYMENT_RATIO</td>\n",
              "      <td>58</td>\n",
              "    </tr>\n",
              "    <tr>\n",
              "      <th>9</th>\n",
              "      <td>DAYS_ID_PUBLISH</td>\n",
              "      <td>57</td>\n",
              "    </tr>\n",
              "    <tr>\n",
              "      <th>107</th>\n",
              "      <td>AMT_DOWN_PAYMENT</td>\n",
              "      <td>55</td>\n",
              "    </tr>\n",
              "    <tr>\n",
              "      <th>515</th>\n",
              "      <td>APPS_INCOME_EMPLOYED_RATIO</td>\n",
              "      <td>53</td>\n",
              "    </tr>\n",
              "    <tr>\n",
              "      <th>356</th>\n",
              "      <td>TARGET_NEIGHBORS_500_MEAN</td>\n",
              "      <td>51</td>\n",
              "    </tr>\n",
              "  </tbody>\n",
              "</table>\n",
              "</div>"
            ],
            "text/plain": [
              "                        feature  feature_importances\n",
              "361    TARGET_NEIGHBORS_500_VAR                  113\n",
              "6                    DAYS_BIRTH                   86\n",
              "351             EXT_SOURCES_MIN                   86\n",
              "116                 CNT_PAYMENT                   78\n",
              "124                        LATE                   62\n",
              "128      SHORT_ON_PAYMENT_RATIO                   58\n",
              "9               DAYS_ID_PUBLISH                   57\n",
              "107            AMT_DOWN_PAYMENT                   55\n",
              "515  APPS_INCOME_EMPLOYED_RATIO                   53\n",
              "356   TARGET_NEIGHBORS_500_MEAN                   51"
            ]
          },
          "metadata": {
            "tags": []
          },
          "execution_count": 77
        }
      ]
    }
  ]
}